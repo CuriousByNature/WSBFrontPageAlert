{
 "cells": [
  {
   "cell_type": "markdown",
   "metadata": {},
   "source": [
    "# Sample notebook to create a model for predicting whether a post will reach the front page. Here, a simple 1-driver logistic regression is used as an example."
   ]
  },
  {
   "cell_type": "code",
   "execution_count": 2,
   "metadata": {},
   "outputs": [],
   "source": [
    "import sklearn as sk\n",
    "from sklearn.model_selection import train_test_split\n",
    "import numpy as np\n",
    "import matplotlib.pyplot as plt\n",
    "import pandas as pd\n",
    "from sklearn.linear_model import LogisticRegression\n",
    "from sklearn import metrics\n",
    "from sklearn.model_selection import cross_validate\n",
    "import pickle"
   ]
  },
  {
   "cell_type": "markdown",
   "metadata": {},
   "source": [
    "## Load Reddit scrape data"
   ]
  },
  {
   "cell_type": "code",
   "execution_count": 3,
   "metadata": {},
   "outputs": [],
   "source": [
    "filename = \"Data/RedditScrapeDump.csv\"\n",
    "myDF = pd.read_csv(filename)\n",
    "y = myDF['FP']\n",
    "drivers = ['proj_rscore_prem_60']\n",
    "X = myDF[drivers]\n",
    "X_train, X_test, y_train, y_test = train_test_split(X,y,train_size = 0.8,random_state = 3, shuffle = True, stratify=y)"
   ]
  },
  {
   "cell_type": "markdown",
   "metadata": {},
   "source": [
    "## Fit model to train set. Evaluate accuracy/precision metrics for train and test sets."
   ]
  },
  {
   "cell_type": "code",
   "execution_count": 4,
   "metadata": {},
   "outputs": [
    {
     "name": "stdout",
     "output_type": "stream",
     "text": [
      "Number of truths in test set: 6\n",
      "In-sample accuracy: 0.956989247311828\n",
      "Testing accuracy: 0.9714285714285714\n",
      "Training precision: 0.8823529411764706\n",
      "Testing precision: 0.8333333333333334\n"
     ]
    }
   ],
   "source": [
    "clf = LogisticRegression(penalty = 'none')\n",
    "clf.fit(X_train,y_train)\n",
    "\n",
    "print('Number of truths in test set:', np.sum(y_test))\n",
    "\n",
    "yhat_train = clf.predict(X_train)\n",
    "print('In-sample accuracy:',clf.score(X_train,y_train))\n",
    "yhat_test = clf.predict(X_test)\n",
    "print('Testing accuracy:',clf.score(X_test,y_test))\n",
    "yhat = clf.predict(X)\n",
    "\n",
    "#note we want precision to be high - the fraction of flagged positives that are ACTUALLY positive\n",
    "precision_train = metrics.precision_score(y_train,yhat_train)\n",
    "print('Training precision:',precision_train)\n",
    "precision_test = metrics.precision_score(y_test,yhat_test)\n",
    "print('Testing precision:',precision_test)\n",
    "\n",
    "\n",
    "dummy_x = np.linspace(-4,1.5,100)\n",
    "dummy_xdf = pd.DataFrame(dummy_x)\n",
    "p_pred = clf.predict_proba(dummy_xdf)\n",
    "\n"
   ]
  },
  {
   "cell_type": "markdown",
   "metadata": {},
   "source": [
    "## Perform the logistic regression on the entire data set"
   ]
  },
  {
   "cell_type": "code",
   "execution_count": 7,
   "metadata": {},
   "outputs": [
    {
     "name": "stdout",
     "output_type": "stream",
     "text": [
      "Average CV test accuracy 0.9540372670807453\n",
      "Average CV test precision 0.8666666666666668\n",
      "Decision threshold value for proj_rscore_prem_60 driver: 0.327\n"
     ]
    }
   ],
   "source": [
    "#now perform regression on entire data set\n",
    "clf = LogisticRegression(penalty = 'none')\n",
    "clf.fit(X,y)\n",
    "\n",
    "yhat = clf.predict(X)\n",
    "\n",
    "#to get another estimate of precision, do cross validation on the entire data set and track the precision score\n",
    "cv_results = cross_validate(clf, X, y=y, scoring='accuracy')\n",
    "print('Average CV test accuracy',np.mean(cv_results['test_score']))\n",
    "cv_results = cross_validate(clf, X, y=y, scoring='precision')\n",
    "print('Average CV test precision',np.mean(cv_results['test_score']))\n",
    "\n",
    "#Calculate decision threshold:\n",
    "threshold = -clf.intercept_/clf.coef_\n",
    "print(\"Decision threshold value for proj_rscore_prem_60 driver: %.3f\" % threshold[0][0])\n",
    "\n",
    "with open('logit_model.pickle', 'wb') as handle:\n",
    "    pickle.dump(clf, handle)"
   ]
  },
  {
   "cell_type": "code",
   "execution_count": 6,
   "metadata": {},
   "outputs": [
    {
     "data": {
      "text/plain": [
       "<matplotlib.legend.Legend at 0x2b0e7cda640>"
      ]
     },
     "execution_count": 6,
     "metadata": {},
     "output_type": "execute_result"
    },
    {
     "data": {
      "image/png": "[encoded data removed]",
      "text/plain": [
       "<Figure size 432x288 with 1 Axes>"
      ]
     },
     "metadata": {
      "needs_background": "light"
     },
     "output_type": "display_data"
    }
   ],
   "source": [
    "plt.plot(X,y,'bo',label = \"Data\")\n",
    "plt.plot(X,yhat,'rx', label = \"Model Prediction\")\n",
    "plt.plot(dummy_x,p_pred[:,1],'r', label = \"Model Fit\")\n",
    "plt.ylabel(\"p\")\n",
    "plt.xlabel(\"Projected Reddit Score Premium at 60 min\")\n",
    "plt.legend()"
   ]
  },
  {
   "cell_type": "code",
   "execution_count": null,
   "metadata": {},
   "outputs": [],
   "source": []
  }
 ],
 "metadata": {
  "kernelspec": {
   "display_name": "Python 3",
   "language": "python",
   "name": "python3"
  },
  "language_info": {
   "codemirror_mode": {
    "name": "ipython",
    "version": 3
   },
   "file_extension": ".py",
   "mimetype": "text/x-python",
   "name": "python",
   "nbconvert_exporter": "python",
   "pygments_lexer": "ipython3",
   "version": "3.8.5"
  }
 },
 "nbformat": 4,
 "nbformat_minor": 4
}
